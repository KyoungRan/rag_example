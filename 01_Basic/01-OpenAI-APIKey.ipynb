{
 "cells": [
  {
   "cell_type": "code",
   "execution_count": null,
   "id": "17e605bd",
   "metadata": {},
   "outputs": [],
   "source": [
    "# langChain 업데이트\n",
    "# !uv add -r https://raw.githubusercontent.com/teddylee777/langchain-kr/main/requirements.txt"
   ]
  },
  {
   "cell_type": "code",
   "execution_count": 1,
   "id": "82049d3a",
   "metadata": {},
   "outputs": [
    {
     "data": {
      "text/plain": [
       "True"
      ]
     },
     "execution_count": 1,
     "metadata": {},
     "output_type": "execute_result"
    }
   ],
   "source": [
    "# API KEY를 환경변수로 관리기기 하기위한 설정 파일\n",
    "from dotenv import load_dotenv\n",
    "\n",
    "# API key 정보로드\n",
    "load_dotenv()"
   ]
  },
  {
   "cell_type": "markdown",
   "id": "4fe107d4",
   "metadata": {},
   "source": [
    " API Key가 잘 설정되었는지 확인"
   ]
  },
  {
   "cell_type": "code",
   "execution_count": 2,
   "id": "1bb060be",
   "metadata": {},
   "outputs": [
    {
     "name": "stdout",
     "output_type": "stream",
     "text": [
      "[API KEY]\n",
      "sk-proj-d6sKMO******************************************************************************************************************************************************\n"
     ]
    }
   ],
   "source": [
    "import os\n",
    "\n",
    "print(f\"[API KEY]\\n{os.environ['OPENAI_API_KEY'][:-150]}\" + \"*\" * 150)"
   ]
  },
  {
   "cell_type": "markdown",
   "id": "8879f2da",
   "metadata": {},
   "source": [
    "설치된 LangChain 버전을 확인"
   ]
  },
  {
   "cell_type": "code",
   "execution_count": 3,
   "id": "8bb56395",
   "metadata": {},
   "outputs": [
    {
     "name": "stdout",
     "output_type": "stream",
     "text": [
      "[LangChain 관련 패키지 버전]\n",
      "langchain: 0.3.27\n",
      "langchain-core: 0.3.77\n",
      "langchain-experimental: 0.3.4\n",
      "langchain-openai: 0.3.34\n",
      "langchain-teddynote: 0.5.1\n",
      "langchain-huggingface: 0.3.1\n",
      "langchain-google-genai: 2.1.12\n",
      "langchain-anthropic: 0.3.21\n",
      "langchain-cohere: 0.4.6\n",
      "langchain-chroma: 0.2.6\n",
      "langchain-elasticsearch: 0.3.2\n",
      "langchain-upstage: 0.7.3\n",
      "langchain-cohere: 0.4.6\n",
      "langchain-milvus: 0.2.1\n",
      "langchain-text-splitters: 0.3.11\n"
     ]
    }
   ],
   "source": [
    "from importlib.metadata import version\n",
    "\n",
    "print(\"[LangChain 관련 패키지 버전]\")\n",
    "for package_name in [\n",
    "    \"langchain\",\n",
    "    \"langchain-core\",\n",
    "    \"langchain-experimental\",\n",
    "    \"langchain-openai\",\n",
    "    \"langchain-teddynote\",\n",
    "    \"langchain-huggingface\",\n",
    "    \"langchain-google-genai\",\n",
    "    \"langchain-anthropic\",\n",
    "    \"langchain-cohere\",\n",
    "    \"langchain-chroma\",\n",
    "    \"langchain-elasticsearch\",\n",
    "    \"langchain-upstage\",\n",
    "    \"langchain-cohere\",\n",
    "    \"langchain-milvus\",\n",
    "    \"langchain-text-splitters\"\n",
    "]:\n",
    "    try:\n",
    "        package_version = version(package_name)\n",
    "        print(f\"{package_name}: {package_version}\")\n",
    "    except ImportError:\n",
    "        print(f\"{package_name}: 설치되지 않음\")"
   ]
  }
 ],
 "metadata": {
  "kernelspec": {
   "display_name": "rag-example",
   "language": "python",
   "name": "python3"
  },
  "language_info": {
   "codemirror_mode": {
    "name": "ipython",
    "version": 3
   },
   "file_extension": ".py",
   "mimetype": "text/x-python",
   "name": "python",
   "nbconvert_exporter": "python",
   "pygments_lexer": "ipython3",
   "version": "3.11.9"
  }
 },
 "nbformat": 4,
 "nbformat_minor": 5
}
