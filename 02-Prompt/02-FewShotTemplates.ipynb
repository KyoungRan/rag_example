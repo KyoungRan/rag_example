{
 "cells": [
  {
   "cell_type": "code",
   "execution_count": 1,
   "id": "cb218844",
   "metadata": {},
   "outputs": [],
   "source": [
    "from dotenv import load_dotenv\n",
    "load_dotenv()\n",
    "\n",
    "import os\n",
    "project_name = \"CH02-Prompt\"\n",
    "os.environ[\"LANGCHAIN_PROJECT\"] = project_name"
   ]
  },
  {
   "cell_type": "markdown",
   "id": "f0e6e596",
   "metadata": {},
   "source": [
    "## FewShotPromptTemplate"
   ]
  },
  {
   "cell_type": "code",
   "execution_count": 7,
   "id": "2d8d0300",
   "metadata": {},
   "outputs": [
    {
     "name": "stdout",
     "output_type": "stream",
     "text": [
      "대한민국의 수도는 서울입니다.\n"
     ]
    }
   ],
   "source": [
    "from langchain_openai import ChatOpenAI\n",
    "\n",
    "# 객체 생성\n",
    "llm = ChatOpenAI(\n",
    "    temperature=0,  # 창의성\n",
    "    model=\"gpt-4.1-nano\",    # 모델명\n",
    ")\n",
    "\n",
    "# 질의내용\n",
    "question = \"대한민국의 수도는 어디인가요?\"\n",
    "\n",
    "# 질의\n",
    "print(llm.invoke(question).content)"
   ]
  },
  {
   "cell_type": "code",
   "execution_count": 3,
   "id": "ad3aaad9",
   "metadata": {},
   "outputs": [],
   "source": [
    "from langchain_core.prompts.few_shot import FewShotPromptTemplate\n",
    "from langchain_core.prompts import PromptTemplate\n",
    "from langchain_core.output_parsers import StrOutputParser\n",
    "\n",
    "\n",
    "examples = [\n",
    "    {\n",
    "        \"question\": \"스티브 잡스와 아인슈타인 중 누가 더 오래 살았나요?\",\n",
    "        \"answer\": \"\"\"이 질문에 추가 질문이 필요한가요: 예.\n",
    "추가 질문: 스티브 잡스는 몇 살에 사망했나요?\n",
    "중간 답변: 스티브 잡스는 56세에 사망했습니다.\n",
    "추가 질문: 아인슈타인은 몇 살에 사망했나요?\n",
    "중간 답변: 아인슈타인은 76세에 사망했습니다.\n",
    "최종 답변은: 아인슈타인\n",
    "\"\"\",\n",
    "    },\n",
    "    {\n",
    "        \"question\": \"네이버의 창립자는 언제 태어났나요?\",\n",
    "        \"answer\": \"\"\"이 질문에 추가 질문이 필요한가요: 예.\n",
    "추가 질문: 네이버의 창립자는 누구인가요?\n",
    "중간 답변: 네이버는 이해진에 의해 창립되었습니다.\n",
    "추가 질문: 이해진은 언제 태어났나요?\n",
    "중간 답변: 이해진은 1967년 6월 22일에 태어났습니다.\n",
    "최종 답변은: 1967년 6월 22일\n",
    "\"\"\",\n",
    "    },\n",
    "    {\n",
    "        \"question\": \"율곡 이이의 어머니가 태어난 해의 통치하던 왕은 누구인가요?\",\n",
    "        \"answer\": \"\"\"이 질문에 추가 질문이 필요한가요: 예.\n",
    "추가 질문: 율곡 이이의 어머니는 누구인가요?\n",
    "중간 답변: 율곡 이이의 어머니는 신사임당입니다.\n",
    "추가 질문: 신사임당은 언제 태어났나요?\n",
    "중간 답변: 신사임당은 1504년에 태어났습니다.\n",
    "추가 질문: 1504년에 조선을 통치한 왕은 누구인가요?\n",
    "중간 답변: 1504년에 조선을 통치한 왕은 연산군입니다.\n",
    "최종 답변은: 연산군\n",
    "\"\"\",\n",
    "    },\n",
    "    {\n",
    "        \"question\": \"올드보이와 기생충의 감독이 같은 나라 출신인가요?\",\n",
    "        \"answer\": \"\"\"이 질문에 추가 질문이 필요한가요: 예.\n",
    "추가 질문: 올드보이의 감독은 누구인가요?\n",
    "중간 답변: 올드보이의 감독은 박찬욱입니다.\n",
    "추가 질문: 박찬욱은 어느 나라 출신인가요?\n",
    "중간 답변: 박찬욱은 대한민국 출신입니다.\n",
    "추가 질문: 기생충의 감독은 누구인가요?\n",
    "중간 답변: 기생충의 감독은 봉준호입니다.\n",
    "추가 질문: 봉준호는 어느 나라 출신인가요?\n",
    "중간 답변: 봉준호는 대한민국 출신입니다.\n",
    "최종 답변은: 예\n",
    "\"\"\",\n",
    "    },\n",
    "]"
   ]
  },
  {
   "cell_type": "code",
   "execution_count": 4,
   "id": "ad748e85",
   "metadata": {},
   "outputs": [
    {
     "name": "stdout",
     "output_type": "stream",
     "text": [
      "Question:\n",
      "스티브 잡스와 아인슈타인 중 누가 더 오래 살았나요?\n",
      "Answer:\n",
      "이 질문에 추가 질문이 필요한가요: 예.\n",
      "추가 질문: 스티브 잡스는 몇 살에 사망했나요?\n",
      "중간 답변: 스티브 잡스는 56세에 사망했습니다.\n",
      "추가 질문: 아인슈타인은 몇 살에 사망했나요?\n",
      "중간 답변: 아인슈타인은 76세에 사망했습니다.\n",
      "최종 답변은: 아인슈타인\n",
      "\n"
     ]
    }
   ],
   "source": [
    "example_prompt = PromptTemplate.from_template(\n",
    "    \"Question:\\n{question}\\nAnswer:\\n{answer}\"\n",
    ")\n",
    "\n",
    "print(example_prompt.format(**examples[0]))"
   ]
  },
  {
   "cell_type": "code",
   "execution_count": 5,
   "id": "fa5daab5",
   "metadata": {},
   "outputs": [
    {
     "name": "stdout",
     "output_type": "stream",
     "text": [
      "Question:\n",
      "스티브 잡스와 아인슈타인 중 누가 더 오래 살았나요?\n",
      "Answer:\n",
      "이 질문에 추가 질문이 필요한가요: 예.\n",
      "추가 질문: 스티브 잡스는 몇 살에 사망했나요?\n",
      "중간 답변: 스티브 잡스는 56세에 사망했습니다.\n",
      "추가 질문: 아인슈타인은 몇 살에 사망했나요?\n",
      "중간 답변: 아인슈타인은 76세에 사망했습니다.\n",
      "최종 답변은: 아인슈타인\n",
      "\n",
      "\n",
      "Question:\n",
      "네이버의 창립자는 언제 태어났나요?\n",
      "Answer:\n",
      "이 질문에 추가 질문이 필요한가요: 예.\n",
      "추가 질문: 네이버의 창립자는 누구인가요?\n",
      "중간 답변: 네이버는 이해진에 의해 창립되었습니다.\n",
      "추가 질문: 이해진은 언제 태어났나요?\n",
      "중간 답변: 이해진은 1967년 6월 22일에 태어났습니다.\n",
      "최종 답변은: 1967년 6월 22일\n",
      "\n",
      "\n",
      "Question:\n",
      "율곡 이이의 어머니가 태어난 해의 통치하던 왕은 누구인가요?\n",
      "Answer:\n",
      "이 질문에 추가 질문이 필요한가요: 예.\n",
      "추가 질문: 율곡 이이의 어머니는 누구인가요?\n",
      "중간 답변: 율곡 이이의 어머니는 신사임당입니다.\n",
      "추가 질문: 신사임당은 언제 태어났나요?\n",
      "중간 답변: 신사임당은 1504년에 태어났습니다.\n",
      "추가 질문: 1504년에 조선을 통치한 왕은 누구인가요?\n",
      "중간 답변: 1504년에 조선을 통치한 왕은 연산군입니다.\n",
      "최종 답변은: 연산군\n",
      "\n",
      "\n",
      "Question:\n",
      "올드보이와 기생충의 감독이 같은 나라 출신인가요?\n",
      "Answer:\n",
      "이 질문에 추가 질문이 필요한가요: 예.\n",
      "추가 질문: 올드보이의 감독은 누구인가요?\n",
      "중간 답변: 올드보이의 감독은 박찬욱입니다.\n",
      "추가 질문: 박찬욱은 어느 나라 출신인가요?\n",
      "중간 답변: 박찬욱은 대한민국 출신입니다.\n",
      "추가 질문: 기생충의 감독은 누구인가요?\n",
      "중간 답변: 기생충의 감독은 봉준호입니다.\n",
      "추가 질문: 봉준호는 어느 나라 출신인가요?\n",
      "중간 답변: 봉준호는 대한민국 출신입니다.\n",
      "최종 답변은: 예\n",
      "\n",
      "\n",
      "Question:\n",
      "Google이 창립된 연도에 Bill Gates의 나이는 몇 살인가요?\n",
      "Answer:\n"
     ]
    }
   ],
   "source": [
    "prompt = FewShotPromptTemplate(\n",
    "    examples=examples,\n",
    "    example_prompt=example_prompt,\n",
    "    suffix=\"Question:\\n{question}\\nAnswer:\",\n",
    "    input_variables=[\"question\"],\n",
    ")\n",
    "\n",
    "question = \"Google이 창립된 연도에 Bill Gates의 나이는 몇 살인가요?\"\n",
    "final_prompt = prompt.format(question=question)\n",
    "print(final_prompt)"
   ]
  },
  {
   "cell_type": "code",
   "execution_count": 8,
   "id": "236ef04a",
   "metadata": {},
   "outputs": [
    {
     "name": "stdout",
     "output_type": "stream",
     "text": [
      "이 질문에 추가 질문이 필요한가요: 예.  \n",
      "추가 질문: Google이 창립된 연도는 언제인가요?  \n",
      "중간 답변: Google은 1998년에 창립되었습니다.  \n",
      "추가 질문: Bill Gates는 1998년 몇 살이었나요?  \n",
      "중간 답변: Bill Gates는 1998년 43세였습니다.  \n",
      "최종 답변은: 43살\n"
     ]
    }
   ],
   "source": [
    "# 결과 출력\n",
    "print(llm.invoke(final_prompt).content)"
   ]
  },
  {
   "cell_type": "code",
   "execution_count": 22,
   "id": "19c3c5e4",
   "metadata": {},
   "outputs": [],
   "source": [
    "from langchain_core.output_parsers import StrOutputParser\n",
    "from langchain_teddynote.messages import stream_response"
   ]
  },
  {
   "cell_type": "code",
   "execution_count": 23,
   "id": "432360f9",
   "metadata": {},
   "outputs": [
    {
     "name": "stdout",
     "output_type": "stream",
     "text": [
      "first=FewShotPromptTemplate(input_variables=['question'], input_types={}, partial_variables={}, examples=[{'question': '스티브 잡스와 아인슈타인 중 누가 더 오래 살았나요?', 'answer': '이 질문에 추가 질문이 필요한가요: 예.\\n추가 질문: 스티브 잡스는 몇 살에 사망했나요?\\n중간 답변: 스티브 잡스는 56세에 사망했습니다.\\n추가 질문: 아인슈타인은 몇 살에 사망했나요?\\n중간 답변: 아인슈타인은 76세에 사망했습니다.\\n최종 답변은: 아인슈타인\\n'}, {'question': '네이버의 창립자는 언제 태어났나요?', 'answer': '이 질문에 추가 질문이 필요한가요: 예.\\n추가 질문: 네이버의 창립자는 누구인가요?\\n중간 답변: 네이버는 이해진에 의해 창립되었습니다.\\n추가 질문: 이해진은 언제 태어났나요?\\n중간 답변: 이해진은 1967년 6월 22일에 태어났습니다.\\n최종 답변은: 1967년 6월 22일\\n'}, {'question': '율곡 이이의 어머니가 태어난 해의 통치하던 왕은 누구인가요?', 'answer': '이 질문에 추가 질문이 필요한가요: 예.\\n추가 질문: 율곡 이이의 어머니는 누구인가요?\\n중간 답변: 율곡 이이의 어머니는 신사임당입니다.\\n추가 질문: 신사임당은 언제 태어났나요?\\n중간 답변: 신사임당은 1504년에 태어났습니다.\\n추가 질문: 1504년에 조선을 통치한 왕은 누구인가요?\\n중간 답변: 1504년에 조선을 통치한 왕은 연산군입니다.\\n최종 답변은: 연산군\\n'}, {'question': '올드보이와 기생충의 감독이 같은 나라 출신인가요?', 'answer': '이 질문에 추가 질문이 필요한가요: 예.\\n추가 질문: 올드보이의 감독은 누구인가요?\\n중간 답변: 올드보이의 감독은 박찬욱입니다.\\n추가 질문: 박찬욱은 어느 나라 출신인가요?\\n중간 답변: 박찬욱은 대한민국 출신입니다.\\n추가 질문: 기생충의 감독은 누구인가요?\\n중간 답변: 기생충의 감독은 봉준호입니다.\\n추가 질문: 봉준호는 어느 나라 출신인가요?\\n중간 답변: 봉준호는 대한민국 출신입니다.\\n최종 답변은: 예\\n'}], example_prompt=PromptTemplate(input_variables=['answer', 'question'], input_types={}, partial_variables={}, template='Question:\\n{question}\\nAnswer:\\n{answer}'), suffix='Question:\\n{question}\\nAnswer:') middle=[ChatOpenAI(client=<openai.resources.chat.completions.completions.Completions object at 0x10c397b50>, async_client=<openai.resources.chat.completions.completions.AsyncCompletions object at 0x10d7b03d0>, root_client=<openai.OpenAI object at 0x10d84c950>, root_async_client=<openai.AsyncOpenAI object at 0x10d84ed10>, model_name='gpt-4.1-nano', temperature=0.0, model_kwargs={}, openai_api_key=SecretStr('**********'))] last=StrOutputParser()\n",
      "이 질문에 추가 질문이 필요한가요: 예.  \n",
      "추가 질문: Google이 창립된 연도는 언제인가요?  \n",
      "중간 답변: Google은 1998년에 창립되었습니다.  \n",
      "추가 질문: Bill Gates는 1998년 몇 살이었나요?  \n",
      "중간 답변: Bill Gates는 1955년 10월 28일에 태어났으므로, 1998년에는 42세였습니다.  \n",
      "최종 답변은: 42세"
     ]
    }
   ],
   "source": [
    "prompt = FewShotPromptTemplate(\n",
    "    examples=examples,\n",
    "    example_prompt=example_prompt,\n",
    "    suffix=\"Question:\\n{question}\\nAnswer:\",\n",
    "    input_variables=[\"question\"],\n",
    ")\n",
    "\n",
    "# chain 생성\n",
    "chain = prompt | llm | StrOutputParser()\n",
    "print(chain)\n",
    "# 결과 출력\n",
    "# print(chain.invoke(question).content)\n",
    "answer = chain.stream({\"question\": \"Google이 창립된 연도에 Bill Gates의 나이는 몇 살인가요?\"})\n",
    "stream_response(answer)"
   ]
  },
  {
   "cell_type": "markdown",
   "id": "c84d692b",
   "metadata": {},
   "source": [
    "## Example Selector\n",
    "\n",
    "예제가 많은 경우 프롬프트에 포함할 예제를 선택해야 할 수도 있습니다. Example Selector 는 이 작업을 담당하는 클래스입니다.\n",
    "\n",
    "- [API 문서](https://api.python.langchain.com/en/latest/core/example_selectors.html)"
   ]
  },
  {
   "cell_type": "code",
   "execution_count": 25,
   "id": "9a0825dc",
   "metadata": {},
   "outputs": [
    {
     "name": "stdout",
     "output_type": "stream",
     "text": [
      "입력에 가장 유사한 예시:\n",
      "Google이 창립된 연도에 Bill Gates의 나이는 몇 살인가요?\n",
      "\n",
      "question:\n",
      "율곡 이이의 어머니가 태어난 해의 통치하던 왕은 누구인가요?\n",
      "answer:\n",
      "이 질문에 추가 질문이 필요한가요: 예.\n",
      "추가 질문: 율곡 이이의 어머니는 누구인가요?\n",
      "중간 답변: 율곡 이이의 어머니는 신사임당입니다.\n",
      "추가 질문: 신사임당은 언제 태어났나요?\n",
      "중간 답변: 신사임당은 1504년에 태어났습니다.\n",
      "추가 질문: 1504년에 조선을 통치한 왕은 누구인가요?\n",
      "중간 답변: 1504년에 조선을 통치한 왕은 연산군입니다.\n",
      "최종 답변은: 연산군\n",
      "\n"
     ]
    }
   ],
   "source": [
    "from langchain_core.example_selectors import (\n",
    "    MaxMarginalRelevanceExampleSelector,\n",
    "    SemanticSimilarityExampleSelector,\n",
    ")\n",
    "from langchain_openai import OpenAIEmbeddings\n",
    "from langchain_chroma import Chroma\n",
    "\n",
    "# Vectir DB 생성 (저장소이름, 임베딩 클래스)\n",
    "chroma = Chroma(\"example_selector\", OpenAIEmbeddings())\n",
    "\n",
    "example_selector = SemanticSimilarityExampleSelector.from_examples(\n",
    "    # 여기에는 선택 가능한 예시 목록이 있다\n",
    "    examples,\n",
    "    # 여기에는 의미적 유사성을 측정하는 데 사용되는 임베딩을 생성하는 임베딩 클래스가 있다.\n",
    "    OpenAIEmbeddings(),\n",
    "    # 여기에는 임베딩을 저장하고 유사성 검색을 수행하는 데 사용되는 VectorStore 클래스가 있다.\n",
    "    Chroma,\n",
    "    # 이것은 생성할 예시의 수이다.\n",
    "    k=1,\n",
    ")\n",
    "\n",
    "# 입력과 가장 유사한 예시를 선택한다\n",
    "selected_examples = example_selector.select_examples({\"question\": question})\n",
    "\n",
    "question = \"Google이 창립된 연도에 Bill Gates의 나이는 몇 살인가요?\"\n",
    "print(f\"입력에 가장 유사한 예시:\\n{question}\\n\")\n",
    "for example in selected_examples:\n",
    "    print(f'question:\\n{example[\"question\"]}')\n",
    "    print(f'answer:\\n{example[\"answer\"]}')"
   ]
  },
  {
   "cell_type": "markdown",
   "id": "2a4e098d",
   "metadata": {},
   "source": [
    "이번에는 ExampleSelector를 사용하여 FewShotPromptTemplate을 생성한다"
   ]
  },
  {
   "cell_type": "code",
   "execution_count": 27,
   "id": "149f04db",
   "metadata": {},
   "outputs": [
    {
     "data": {
      "text/plain": [
       "FewShotPromptTemplate(input_variables=['question'], input_types={}, partial_variables={}, example_selector=SemanticSimilarityExampleSelector(vectorstore=<langchain_chroma.vectorstores.Chroma object at 0x1122f1cd0>, k=1, example_keys=None, input_keys=None, vectorstore_kwargs=None), example_prompt=PromptTemplate(input_variables=['answer', 'question'], input_types={}, partial_variables={}, template='Question:\\n{question}\\nAnswer:\\n{answer}'), suffix='Question:\\n{question}\\nAnswer:')\n",
       "| ChatOpenAI(client=<openai.resources.chat.completions.completions.Completions object at 0x10c397b50>, async_client=<openai.resources.chat.completions.completions.AsyncCompletions object at 0x10d7b03d0>, root_client=<openai.OpenAI object at 0x10d84c950>, root_async_client=<openai.AsyncOpenAI object at 0x10d84ed10>, model_name='gpt-4.1-nano', temperature=0.0, model_kwargs={}, openai_api_key=SecretStr('**********'))\n",
       "| StrOutputParser()"
      ]
     },
     "execution_count": 27,
     "metadata": {},
     "output_type": "execute_result"
    }
   ],
   "source": [
    "prompt = FewShotPromptTemplate(\n",
    "    example_selector=example_selector,\n",
    "    example_prompt=example_prompt,\n",
    "    suffix=\"Question:\\n{question}\\nAnswer:\",\n",
    "    input_variables=[\"question\"],\n",
    ")\n",
    "\n",
    "# question = \"Google이 창립한 연도에 Bill Gates의 나이는 몇 살인가요?\"\n",
    "# example_selector_prompt = prompt.format(question=question)\n",
    "# print(example_selector_prompt)\n",
    "\n",
    "# chain 생성\n",
    "chain = prompt | llm | StrOutputParser()\n",
    "chain"
   ]
  },
  {
   "cell_type": "code",
   "execution_count": 35,
   "id": "327e19d2",
   "metadata": {},
   "outputs": [
    {
     "name": "stdout",
     "output_type": "stream",
     "text": [
      "이 질문에 추가 질문이 필요한가요: 예.  \n",
      "추가 질문: Google이 창립된 연도는 언제인가요?  \n",
      "중간 답변: Google은 1998년에 창립되었습니다.  \n",
      "추가 질문: Bill Gates는 언제 태어났나요?  \n",
      "중간 답변: Bill Gates는 1955년 10월 28일에 태어났습니다.  \n",
      "최종 답변은: 1998년이 될 때, Bill Gates는 42세입니다."
     ]
    }
   ],
   "source": [
    "# 결과 출력\n",
    "# question = \"Google이 창립된 연도에 Bill Gates의 나이는 몇 살인가요?\"\n",
    "# print(chain.invoke(question).content)\n",
    "answer = chain.stream({\"question\": \"Google에 창립된 연도에 Bill Gates의 나이는 몇 살인가요?\"})\n",
    "# save_answer = \"\"\n",
    "for token in answer:\n",
    "    print(token, end=\"\", flush=True)\n",
    "    save_answer += token"
   ]
  },
  {
   "cell_type": "code",
   "execution_count": 37,
   "id": "3c344cdf",
   "metadata": {},
   "outputs": [
    {
     "name": "stdout",
     "output_type": "stream",
     "text": [
      "이 질문에 추가 질문이 필요한가요: 예.  \n",
      "추가 질문: Google이 창립된 연도는 언제인가요?  \n",
      "중간 답변: Google은 1998년에 창립되었습니다.  \n",
      "추가 질문: Bill Gates는 언제 태어났나요?  \n",
      "중간 답변: Bill Gates는 1955년 10월 28일에 태어났습니다.  \n",
      "최종 답변은: 1998년이 될 때, Bill Gates는 42세입니다.\n"
     ]
    }
   ],
   "source": [
    "print(save_answer)"
   ]
  },
  {
   "cell_type": "markdown",
   "id": "174065f2",
   "metadata": {},
   "source": [
    "#### MaxMarginalRelevanceExampleSelector와 SemanticSimilarityExampleSelector의 차이"
   ]
  },
  {
   "cell_type": "markdown",
   "id": "f04e3410",
   "metadata": {},
   "source": [
    "- `SemanticSimilarityExampleSelector`는 유사도 계산을 해서 가장 유사한 것들을 순위로 뽑아 내는 알고리즘이다.\n",
    "\n",
    "  예를들어 k=3이면 유사한 것 3개만 뽑는다. \n",
    "\n",
    "- **문제점**: 우리가 유사한 것들만 뽑다보면 3개의 예제가 모두 비슷한 내용일 수 있다. \n",
    "\n",
    "   하지만, 우리가 때로는 다양한 내용들을 넣어주고 싶을 때가 있다. \n",
    "\n",
    "   여기서 말하는 다양함이란, \n",
    "   \n",
    "   질문과 답변은 유사성 있지만, 그중에서도 좀 다양한 예를를 가지고 오고 싶을때, \n",
    "   \n",
    "   그 때는 `MaxMarginalRelevanceExampleSelector`를 쓴다."
   ]
  },
  {
   "cell_type": "markdown",
   "id": "79528cd7",
   "metadata": {},
   "source": [
    "### Max Marginal Relevance (MMR) 알고리즘"
   ]
  },
  {
   "cell_type": "markdown",
   "id": "7c4d1bfd",
   "metadata": {},
   "source": [
    "- 정보 검색과 문서 요약 과정에서 다양성과 관련성을 모두 고려하여 결과를 선택하는데 사용.\n",
    "\n",
    "- 주로 **결과의 중복성을 줄이면서도 가장 관련성 높은 정보를 제공하는 것을 목표**로 한다.\n",
    "\n",
    "- 예) \"레스토랑 메뉴 선택\"\n",
    "\n",
    "    - 메뉴을 고를 때, **취향**과 **메뉴의 다양성**을 모두 고려. 피자를 좋아히자만, 다른 종류의 요리도 시도해 보고 싶을 때\n",
    "\n",
    "    - MMR 알고리즘은 선택할 수 있는 메뉴 **항목(문서)들 중에서 여러분의 취향(쿼리의 관련성)과 다른 이미 선택한 메뉴 항목들과의 차별성(문서 간의 다양성)을 고려하여 최적의 선택**을 돕는다"
   ]
  },
  {
   "cell_type": "markdown",
   "id": "c172ebbd",
   "metadata": {},
   "source": [
    "#### 주요 개념\n",
    "\n",
    "1. **관련성(Relavance)**: 검색 쿼리나 주제와 문서의 관련성을 평가. 이는 보통 문서가 주어진 쿼리와 얼마나 잘 일치하는지를 나타내는 점수로 표현\n",
    "\n",
    "2. **다양성(Diversity)**: 이미 선택된 문서와 유사성을 평가하여, 선택 과정에서 문서 간의 다양성을 보장. 이는 문서 간의 유사성을 계산하여, 이미 선택된 문서와 비슷한 새 문서의 선택 가능성을 낮춘다."
   ]
  },
  {
   "cell_type": "markdown",
   "id": "d1c9a041",
   "metadata": {},
   "source": [
    "#### 과정\n",
    "\n",
    "1. **가장 관련성 높은 항목을 선택**\n",
    "\n",
    "2. 이 후 단계는 **관련성은 높으면서도** 가장 **차별화된 항목을 찾아 선택**한다. 이는 **λ 값에 의해 조절**에 조절되며, 이 값이 **클수록 관련성**을, **작을수록 다양성**을 중시한다.\n"
   ]
  },
  {
   "cell_type": "markdown",
   "id": "373e3c65",
   "metadata": {},
   "source": [
    "## FewShotChatMessagePromptTemplate"
   ]
  },
  {
   "cell_type": "code",
   "execution_count": 38,
   "id": "de62ca7e",
   "metadata": {},
   "outputs": [],
   "source": [
    "examples = [\n",
    "    {\n",
    "        \"instruction\": \"당신은 회의록 작성 전문가입니다. 주어진 정보를 바탕으로 회의록을 작성해주세요\",\n",
    "        \"input\": \"2023년 12월 25일, XYZ 회사의 마케팅 전략 회의가 오후 3시에 시작되었다. 회의에는 마케팅 팀장인 김수진, 디지털 마케팅 담당자인 박지민, 소셜 미디어 관리자인 이준호가 참석했다. 회의의 주요 목적은 2024년 상반기 마케팅 전략을 수립하고, 새로운 소셜 미디어 캠페인에 대한 아이디어를 논의하는 것이었다. 팀장인 김수진은 최근 시장 동향에 대한 간략한 개요를 제공했으며, 이어서 각 팀원이 자신의 분야에서의 전략적 아이디어를 발표했다.\",\n",
    "        \"answer\": \"\"\"\n",
    "일시: 2023년 12월 25일\n",
    "장소: XYZ 회사 회의실\n",
    "참석자: 김수진 (마케팅 팀장), 박지민(디지털 마케팅 담당자), 이준호(소셜 미디어 관리자)\n",
    "\n",
    "1. 개회\n",
    "    - 회의는 김수진 팀장의 개회사로 시작됨.\n",
    "    - 회의의 목적은 2024년 상반기 마케팅 전략 수립 및 새로운 소셜 미디어 캠페인 아이디어 논의.\n",
    "\n",
    "2. 시장 동향 개요 (김수진)\n",
    "    - 김수진 팀장은 최근 시장 동향에 대한 분석을 제시.\n",
    "    - 소비자 행동 변화와 경쟁사 전략에 대한 통찰 공유.\n",
    "\n",
    "3. 디지털 마케팅 전략 (박지민)\n",
    "    - 박지민은 디지털 마케팅 전략에 대한 발표.\n",
    "    - 온라인 광고와 SEO 최적화 방안에 중점을 둠.\n",
    "\n",
    "4. 소셜 미디어 캠페인 (이준호)\n",
    "    - 이준호는 새로운 소셜 미디어 캠페인에 대한 아이디어를 제안.\n",
    "    - 인플루언서 마케팅과 콘텐츠 전략에 대한 계획을 설명함.\n",
    "\n",
    "5. 종합 논의\n",
    "    - 팀원들 간의 아이디어 공유 및 토론.\n",
    "    - 각 전략에 대한 예산 및 자원 배분에 대한 논의.\n",
    "\n",
    "6. 마무리\n",
    "    - 다음 회의 날짜 및 시간 확정.\n",
    "    - 회의록 정리 및 배포는 박지만 담당.\n",
    "\"\"\"\n",
    "    },\n",
    "    {\n",
    "        \"instruction\": \"당신은 요약 전문가입니다. 다음 주어진 정보를 바탕으로 내용을 요약해 주세요\",\n",
    "        \"input\": \"이 문서는 '지속 가능한 도시 개발을 위한 전략'에 대한 20페이지 분량의 보고서입니다. 보고서는 지속 가능한 도시 개발의 중요성, 현재 도시화의 문제점, 그리고 도시 개발을 지속 가능하게 만들기 위한 다양한 전략을 포괄적으로 다루고 있습니다. 이 보고서는 또한 성공적인 지속 가능한 도시 개발 사례를 여러 국가에서 소개하고, 이러한 사례들을 통해 얻은 교훈을 요약하고 있습니다.\",\n",
    "        \"answer\": \"\"\"\n",
    "문서 요약: 지속 가능한 도시 개발을 위한 전략 보고서\n",
    "\n",
    "- 중요성: 지속 가능한 도시 개발이 필수적인 이유와 그에 따른 사회적, 경제적, 환경적 이익을 강조.\n",
    "- 현 문제점: 현재의 도시화 과정에서 발생하는 주요 문제점들, 예를 들어 환경 오염, 자원 고갈, 불평등 증가 등을 분석.\n",
    "- 전략: 지속 가능한 도시 개발을 달성하기 위한 다양한 전략 제시. 이에는 친환경 건축, 대중교통 개선, 에너지 효율성 증대, 지역사회 참여 강화 등이 포함됨.\n",
    "- 사례 연구: 전 세계 여러 도시의 성공적인 지속 가능한 개발 사례를 소개. 예를 들어, 덴마크의 코펜하겐, 일본의 요코하마 등의 사례를 통해 실현 가능한 전략들을 설명.\n",
    "- 교훈: 이러한 사례들에서 얻은 주요 교훈을 요약. 강조된 교훈에는 다각적 접근의 중요성, 지역사회와의 협력, 장기적 계획의 필요성 등이 포함됨.\n",
    "\n",
    "이 보고서는 지속 가능한 도시 개발이 어떻게 현실적이고 효과적인 형태로 이루어질 수 있는지에 대한 심도 있는 분석을 제공합니다.\n",
    "\"\"\",\n",
    "    },{\n",
    "        \"instruction\": \"당신은 문장 교정 전문가입니다. 다음 주어진 문장을 교정해 주세요\",\n",
    "        \"input\": \"우리 회사는 새로운 마케팅 전략을 도입하려고 한다. 이를 통해 고객과의 소통이 더 효과적이 될 것이다.\",\n",
    "        \"answer\": \"본 회사는 새로운 마케팅 전략을 도입함으로써, 고객과의 소통을 보다 효과적으로 개선할 수 있을 것으로 기대된다.\",\n",
    "    },\n",
    "]"
   ]
  },
  {
   "cell_type": "code",
   "execution_count": 41,
   "id": "a02a9da1",
   "metadata": {},
   "outputs": [],
   "source": [
    "from langchain_core.prompts import ChatPromptTemplate, FewShotChatMessagePromptTemplate\n",
    "from langchain_core.example_selectors import (\n",
    "    SemanticSimilarityExampleSelector,\n",
    ")\n",
    "from langchain_openai import OpenAIEmbeddings\n",
    "from langchain_chroma import Chroma\n",
    "\n",
    "chroma = Chroma(\"fewshot_chat\", OpenAIEmbeddings())\n",
    "\n",
    "example_prompt = ChatPromptTemplate.from_messages(\n",
    "    [\n",
    "        (\"human\", \"{instruction}:\\n{input}\"),\n",
    "        (\"ai\", \"{answer}\"),\n",
    "    ]\n",
    ")\n",
    "\n",
    "example_selector = SemanticSimilarityExampleSelector.from_examples(\n",
    "    # 여기에는 선택 가능한 예시 목록이 있습니다.\n",
    "    examples,\n",
    "    # 여기에는 의미적 유사성을 측정하는 데 사용되는 임베딩을 생성하는 임베딩 클래스가 있습니다.\n",
    "    OpenAIEmbeddings(),\n",
    "    # 여기에는 임베딩을 저장하고 유사성 검색을 수행하는 데 사용되는 VectorStore 클래스가 있습니다.\n",
    "    chroma,\n",
    "    # 이것은 생성할 예시의 수입니다.\n",
    "    k=1,\n",
    ")\n",
    "\n",
    "few_shot_prompt = FewShotChatMessagePromptTemplate(\n",
    "    example_selector=example_selector,\n",
    "    example_prompt=example_prompt,\n",
    ")"
   ]
  },
  {
   "cell_type": "markdown",
   "id": "59bde7df",
   "metadata": {},
   "source": [
    "fewshot 예제와 example selector를 사용하여 유사한 예제 1개를 선택한다."
   ]
  },
  {
   "cell_type": "code",
   "execution_count": 43,
   "id": "f5875fc7",
   "metadata": {},
   "outputs": [
    {
     "data": {
      "text/plain": [
       "[{'instruction': '당신은 회의록 작성 전문가입니다. 주어진 정보를 바탕으로 회의록을 작성해주세요',\n",
       "  'answer': '\\n일시: 2023년 12월 25일\\n장소: XYZ 회사 회의실\\n참석자: 김수진 (마케팅 팀장), 박지민(디지털 마케팅 담당자), 이준호(소셜 미디어 관리자)\\n\\n1. 개회\\n    - 회의는 김수진 팀장의 개회사로 시작됨.\\n    - 회의의 목적은 2024년 상반기 마케팅 전략 수립 및 새로운 소셜 미디어 캠페인 아이디어 논의.\\n\\n2. 시장 동향 개요 (김수진)\\n    - 김수진 팀장은 최근 시장 동향에 대한 분석을 제시.\\n    - 소비자 행동 변화와 경쟁사 전략에 대한 통찰 공유.\\n\\n3. 디지털 마케팅 전략 (박지민)\\n    - 박지민은 디지털 마케팅 전략에 대한 발표.\\n    - 온라인 광고와 SEO 최적화 방안에 중점을 둠.\\n\\n4. 소셜 미디어 캠페인 (이준호)\\n    - 이준호는 새로운 소셜 미디어 캠페인에 대한 아이디어를 제안.\\n    - 인플루언서 마케팅과 콘텐츠 전략에 대한 계획을 설명함.\\n\\n5. 종합 논의\\n    - 팀원들 간의 아이디어 공유 및 토론.\\n    - 각 전략에 대한 예산 및 자원 배분에 대한 논의.\\n\\n6. 마무리\\n    - 다음 회의 날짜 및 시간 확정.\\n    - 회의록 정리 및 배포는 박지만 담당.\\n',\n",
       "  'input': '2023년 12월 25일, XYZ 회사의 마케팅 전략 회의가 오후 3시에 시작되었다. 회의에는 마케팅 팀장인 김수진, 디지털 마케팅 담당자인 박지민, 소셜 미디어 관리자인 이준호가 참석했다. 회의의 주요 목적은 2024년 상반기 마케팅 전략을 수립하고, 새로운 소셜 미디어 캠페인에 대한 아이디어를 논의하는 것이었다. 팀장인 김수진은 최근 시장 동향에 대한 간략한 개요를 제공했으며, 이어서 각 팀원이 자신의 분야에서의 전략적 아이디어를 발표했다.'}]"
      ]
     },
     "execution_count": 43,
     "metadata": {},
     "output_type": "execute_result"
    }
   ],
   "source": [
    "question = {\n",
    "    \"instruction\": \"회의록을 작성해 주세요\",\n",
    "    \"input\": \"2023년 12월 26일, ABC 기술 회사의 제품 개발 팀은 새로운 모바일 애플리케이션 프로젝트에 대한 주간 진행 상황 회의를 가졌다. 이 회의에는 프로젝트 매니저인 최현수, 주요 개발자인 황지연, UI/UX 디자이너인 김태영이 참석했다. 회의의 주요 목적은 프로젝트의 현재 진행 상황을 검토하고, 다가오는 마일스톤에 대한 계획을 수립하는 것이었다. 각 팀원은 자신의 작업 영역에 대한 업데이트를 제공했고, 팀은 다음 주까지의 목표를 설정했다.\",\n",
    "}\n",
    "\n",
    "example_selector.select_examples(question)"
   ]
  },
  {
   "cell_type": "code",
   "execution_count": 46,
   "id": "f493811c",
   "metadata": {},
   "outputs": [],
   "source": [
    "final_prompt = ChatPromptTemplate.from_messages(\n",
    "    [\n",
    "        (\n",
    "            \"system\",\n",
    "            \"You are a helpful assistant.\",\n",
    "        ),\n",
    "        few_shot_prompt,\n",
    "        (\"human\", \"{instruction}\\n{input}\")\n",
    "    ]\n",
    ")"
   ]
  },
  {
   "cell_type": "code",
   "execution_count": 47,
   "id": "81b3d4a7",
   "metadata": {},
   "outputs": [
    {
     "name": "stdout",
     "output_type": "stream",
     "text": [
      "일시: 2023년 12월 26일  \n",
      "장소: ABC 기술 회사 회의실  \n",
      "참석자: 최현수 (프로젝트 매니저), 황지연 (주요 개발자), 김태영 (UI/UX 디자이너)  \n",
      "\n",
      "1. 개회  \n",
      "- 최현수 프로젝트 매니저의 개회사로 회의 시작.  \n",
      "- 오늘 회의의 목적은 모바일 애플리케이션 프로젝트의 진행 상황 검토 및 다음 마일스톤 계획 수립.  \n",
      "\n",
      "2. 프로젝트 진행 상황 보고  \n",
      "- 황지연 개발자는 현재 개발 진행 상황과 주요 이슈를 보고.  \n",
      "- 김태영 디자이너는 UI/UX 디자인 진행 상황과 사용자 피드백을 공유.  \n",
      "\n",
      "3. 다음 주 목표 설정  \n",
      "- 팀원들은 각자의 작업 목표를 제시하고, 다음 주까지 달성해야 할 구체적인 목표를 논의.  \n",
      "- 최현수는 전체 일정 조율과 우선순위 조정을 담당.  \n",
      "\n",
      "4. 논의 및 결론  \n",
      "- 프로젝트의 일정 조정 및 리소스 배분에 대한 논의.  \n",
      "- 다음 회의 일정은 별도 공지하기로 함.  \n",
      "\n",
      "5. 종료  \n",
      "- 회의는 최현수의 마무리 발언과 함께 종료.  \n",
      "- 회의록은 담당자인 김태영이 정리하여 배포 예정."
     ]
    }
   ],
   "source": [
    "# chain 생성\n",
    "chain = final_prompt | llm\n",
    "\n",
    "# 실행 및 결과 출력\n",
    "answer = chain.stream(question)\n",
    "save_answer = \"\"\n",
    "for token in answer:\n",
    "    print(token.content, end=\"\", flush=True)\n",
    "    save_answer += token.content"
   ]
  },
  {
   "cell_type": "code",
   "execution_count": 48,
   "id": "167e3fb4",
   "metadata": {},
   "outputs": [
    {
     "name": "stdout",
     "output_type": "stream",
     "text": [
      "일시: 2023년 12월 26일  \n",
      "장소: ABC 기술 회사 회의실  \n",
      "참석자: 최현수 (프로젝트 매니저), 황지연 (주요 개발자), 김태영 (UI/UX 디자이너)  \n",
      "\n",
      "1. 개회  \n",
      "- 최현수 프로젝트 매니저의 개회사로 회의 시작.  \n",
      "- 오늘 회의의 목적은 모바일 애플리케이션 프로젝트의 진행 상황 검토 및 다음 마일스톤 계획 수립.  \n",
      "\n",
      "2. 프로젝트 진행 상황 보고  \n",
      "- 황지연 개발자는 현재 개발 진행 상황과 주요 이슈를 보고.  \n",
      "- 김태영 디자이너는 UI/UX 디자인 진행 상황과 사용자 피드백을 공유.  \n",
      "\n",
      "3. 다음 주 목표 설정  \n",
      "- 팀원들은 각자의 작업 목표를 제시하고, 다음 주까지 달성해야 할 구체적인 목표를 논의.  \n",
      "- 최현수는 전체 일정 조율과 우선순위 조정을 담당.  \n",
      "\n",
      "4. 논의 및 결론  \n",
      "- 프로젝트의 일정 조정 및 리소스 배분에 대한 논의.  \n",
      "- 다음 회의 일정은 별도 공지하기로 함.  \n",
      "\n",
      "5. 종료  \n",
      "- 회의는 최현수의 마무리 발언과 함께 종료.  \n",
      "- 회의록은 담당자인 김태영이 정리하여 배포 예정.\n"
     ]
    }
   ],
   "source": [
    "print(save_answer)"
   ]
  },
  {
   "cell_type": "markdown",
   "id": "827abf95",
   "metadata": {},
   "source": [
    "## Example Selector의 유사도 검색 문제 해결\n",
    "\n",
    "유사도 계산시 `instruction`과 `input`을 사용하고 있습니다. 하지만, `instruction`만 사용하여 검색시 제대로된 유사도 결과가 나오지 않습니다. \n",
    "\n",
    "이를 해결하기 위해 커스텀 유사도 계산을 위한 클래스를 정의합니다.\n",
    "\n",
    "아래는 잘못 검색된 결과의 예시입니다."
   ]
  },
  {
   "cell_type": "code",
   "execution_count": 50,
   "id": "1ec953ae",
   "metadata": {},
   "outputs": [
    {
     "data": {
      "text/plain": [
       "[{'input': '우리 회사는 새로운 마케팅 전략을 도입하려고 한다. 이를 통해 고객과의 소통이 더 효과적이 될 것이다.',\n",
       "  'answer': '본 회사는 새로운 마케팅 전략을 도입함으로써, 고객과의 소통을 보다 효과적으로 개선할 수 있을 것으로 기대된다.',\n",
       "  'instruction': '당신은 문장 교정 전문가입니다. 다음 주어진 문장을 교정해 주세요'}]"
      ]
     },
     "execution_count": 50,
     "metadata": {},
     "output_type": "execute_result"
    }
   ],
   "source": [
    "question = {\n",
    "    \"instruction\": \"회의록을 작성해 주세요\",\n",
    "}\n",
    "\n",
    "example_selector.select_examples(question)"
   ]
  },
  {
   "cell_type": "code",
   "execution_count": 51,
   "id": "32922be6",
   "metadata": {},
   "outputs": [
    {
     "data": {
      "text/plain": [
       "[{'instruction': '당신은 문장 교정 전문가입니다. 다음 주어진 문장을 교정해 주세요',\n",
       "  'answer': '본 회사는 새로운 마케팅 전략을 도입함으로써, 고객과의 소통을 보다 효과적으로 개선할 수 있을 것으로 기대된다.',\n",
       "  'input': '우리 회사는 새로운 마케팅 전략을 도입하려고 한다. 이를 통해 고객과의 소통이 더 효과적이 될 것이다.'}]"
      ]
     },
     "execution_count": 51,
     "metadata": {},
     "output_type": "execute_result"
    }
   ],
   "source": [
    "# 커스텀 하지 않은 기본 예제 선택기를 사용했을 때 결과\n",
    "example_selector.select_examples({\"instruction\": \"다음 문장을 요약해 주세요\"})"
   ]
  },
  {
   "cell_type": "code",
   "execution_count": 52,
   "id": "888680ff",
   "metadata": {},
   "outputs": [
    {
     "data": {
      "text/plain": [
       "[{'instruction': '당신은 회의록 작성 전문가입니다. 주어진 정보를 바탕으로 회의록을 작성해주세요',\n",
       "  'input': '2023년 12월 25일, XYZ 회사의 마케팅 전략 회의가 오후 3시에 시작되었다. 회의에는 마케팅 팀장인 김수진, 디지털 마케팅 담당자인 박지민, 소셜 미디어 관리자인 이준호가 참석했다. 회의의 주요 목적은 2024년 상반기 마케팅 전략을 수립하고, 새로운 소셜 미디어 캠페인에 대한 아이디어를 논의하는 것이었다. 팀장인 김수진은 최근 시장 동향에 대한 간략한 개요를 제공했으며, 이어서 각 팀원이 자신의 분야에서의 전략적 아이디어를 발표했다.',\n",
       "  'answer': '\\n일시: 2023년 12월 25일\\n장소: XYZ 회사 회의실\\n참석자: 김수진 (마케팅 팀장), 박지민(디지털 마케팅 담당자), 이준호(소셜 미디어 관리자)\\n\\n1. 개회\\n    - 회의는 김수진 팀장의 개회사로 시작됨.\\n    - 회의의 목적은 2024년 상반기 마케팅 전략 수립 및 새로운 소셜 미디어 캠페인 아이디어 논의.\\n\\n2. 시장 동향 개요 (김수진)\\n    - 김수진 팀장은 최근 시장 동향에 대한 분석을 제시.\\n    - 소비자 행동 변화와 경쟁사 전략에 대한 통찰 공유.\\n\\n3. 디지털 마케팅 전략 (박지민)\\n    - 박지민은 디지털 마케팅 전략에 대한 발표.\\n    - 온라인 광고와 SEO 최적화 방안에 중점을 둠.\\n\\n4. 소셜 미디어 캠페인 (이준호)\\n    - 이준호는 새로운 소셜 미디어 캠페인에 대한 아이디어를 제안.\\n    - 인플루언서 마케팅과 콘텐츠 전략에 대한 계획을 설명함.\\n\\n5. 종합 논의\\n    - 팀원들 간의 아이디어 공유 및 토론.\\n    - 각 전략에 대한 예산 및 자원 배분에 대한 논의.\\n\\n6. 마무리\\n    - 다음 회의 날짜 및 시간 확정.\\n    - 회의록 정리 및 배포는 박지만 담당.\\n'}]"
      ]
     },
     "execution_count": 52,
     "metadata": {},
     "output_type": "execute_result"
    }
   ],
   "source": [
    "from langchain_teddynote.prompts import CustomExampleSelector\n",
    "\n",
    "# 커스텀 예제 선택기 생성\n",
    "custom_selector = CustomExampleSelector(examples, OpenAIEmbeddings())\n",
    "\n",
    "# 커스텀 예제 선택기를 사용했을 때 결과\n",
    "custom_selector.select_examples({\"instruction\": \"다음 문장을 회의록 작성해 주세요\"})"
   ]
  },
  {
   "cell_type": "code",
   "execution_count": 54,
   "id": "ea917d8b",
   "metadata": {},
   "outputs": [],
   "source": [
    "example_prompt = ChatPromptTemplate.from_messages(\n",
    "    [\n",
    "        (\"human\", \"{instruction}:\\n{input}\"),\n",
    "        (\"ai\", \"{answer}\")\n",
    "    ]\n",
    ")\n",
    "\n",
    "custom_fewshot_prompt = FewShotChatMessagePromptTemplate(\n",
    "    example_selector=custom_selector,   # 커스텀 예제 선택기 사용\n",
    "    example_prompt=example_prompt,  # 예제 프롬프트 사용\n",
    ")\n",
    "\n",
    "custom_prompt = ChatPromptTemplate.from_messages(\n",
    "    [\n",
    "        (\n",
    "            \"system\",\n",
    "            \"You are a helpful assistant.\",\n",
    "        ),\n",
    "        custom_fewshot_prompt,\n",
    "        (\"human\", \"{instruction}\\n{input}\")\n",
    "    ]\n",
    ")"
   ]
  },
  {
   "cell_type": "code",
   "execution_count": 55,
   "id": "2d5f114d",
   "metadata": {},
   "outputs": [],
   "source": [
    "# chain을 생성\n",
    "chain = custom_prompt | llm"
   ]
  },
  {
   "cell_type": "code",
   "execution_count": 61,
   "id": "88a6328f",
   "metadata": {},
   "outputs": [
    {
     "name": "stdout",
     "output_type": "stream",
     "text": [
      "일시: 2023년 12월 26일  \n",
      "장소: ABC 기술 회사 회의실  \n",
      "참석자: 최현수 (프로젝트 매니저), 황지연 (주요 개발자), 김태영 (UI/UX 디자이너)  \n",
      "\n",
      "1. 개회  \n",
      "- 최현수 프로젝트 매니저의 개회사로 회의 시작.  \n",
      "- 오늘 회의의 목적은 모바일 애플리케이션 프로젝트의 진행 상황 검토 및 다음 마일스톤 계획 수립.  \n",
      "\n",
      "2. 프로젝트 진행 상황 보고  \n",
      "- 황지연 개발자는 현재 개발 진행 상황과 주요 이슈를 보고.  \n",
      "- 김태영 디자이너는 UI/UX 디자인 진행 상황과 사용자 피드백을 공유.  \n",
      "\n",
      "3. 다음 주 목표 설정  \n",
      "- 팀원들은 각자의 작업 영역에 대한 구체적인 목표를 제시.  \n",
      "- 최현수는 전체 일정 조율과 마일스톤 달성을 위한 조치 사항을 논의.  \n",
      "\n",
      "4. 논의 및 결론  \n",
      "- 프로젝트 일정 조정 및 우선순위 재확인.  \n",
      "- 추가 자원 필요 여부 검토 및 문제 해결 방안 논의.  \n",
      "\n",
      "5. 종료  \n",
      "- 다음 주 회의 일정 확정.  \n",
      "- 회의록은 최현수 담당자가 정리하여 배포하기로 함."
     ]
    }
   ],
   "source": [
    "question = {\n",
    "    \"instruction\": \"회의록을 작성해 주세요\",\n",
    "    \"input\": \"2023년 12월 26일, ABC 기술 회사의 제품 개발 팀은 새로운 모바일 애플리케이션 프로젝트에 대한 주간 진행 상황 회의를 가졌다. 이 회의에는 프로젝트 매니저인 최현수, 주요 개발자인 황지연, UI/UX 디자이너인 김태영이 참석했다. 회의의 주요 목적은 프로젝트의 현재 진행 상황을 검토하고, 다가오는 마일스톤에 대한 계획을 수립하는 것이었다. 각 팀원은 자신의 작업 영역에 대한 업데이트를 제공했고, 팀은 다음 주까지의 목표를 설정했다.\",\n",
    "}\n",
    "\n",
    "# 실행 및 결과 출력\n",
    "answer = chain.stream(question)\n",
    "\n",
    "for token in answer:\n",
    "    print(token.content, end=\"\", flush=True)\n",
    "    save_answer += token.content"
   ]
  },
  {
   "cell_type": "code",
   "execution_count": 62,
   "id": "55b69a40",
   "metadata": {},
   "outputs": [
    {
     "data": {
      "text/plain": [
       "'일시: 2023년 12월 26일  \\n장소: ABC 기술 회사 회의실  \\n참석자: 최현수 (프로젝트 매니저), 황지연 (주요 개발자), 김태영 (UI/UX 디자이너)  \\n\\n1. 개회  \\n- 최현수 프로젝트 매니저의 개회사로 회의 시작.  \\n- 오늘 회의의 목적은 모바일 애플리케이션 프로젝트의 진행 상황 검토 및 다음 마일스톤 계획 수립.  \\n\\n2. 프로젝트 진행 상황 보고  \\n- 황지연 개발자는 현재 개발 진행 상황과 주요 이슈를 보고.  \\n- 김태영 디자이너는 UI/UX 디자인 진행 상황과 사용자 피드백을 공유.  \\n\\n3. 다음 주 목표 설정  \\n- 팀원들은 각자의 작업 영역에 대한 구체적인 목표를 제시.  \\n- 최현수는 전체 일정 조율과 마일스톤 달성을 위한 조치 사항을 논의.  \\n\\n4. 논의 및 결론  \\n- 프로젝트 일정 조정 및 우선순위 재확인.  \\n- 추가 자원 필요 여부 검토 및 문제 해결 방안 논의.  \\n\\n5. 종료  \\n- 다음 주 회의 일정 확정.  \\n- 회의록은 최현수 담당자가 정리하여 배포하기로 함.'"
      ]
     },
     "execution_count": 62,
     "metadata": {},
     "output_type": "execute_result"
    }
   ],
   "source": [
    "save_answer"
   ]
  },
  {
   "cell_type": "code",
   "execution_count": 64,
   "id": "f16ce45d",
   "metadata": {},
   "outputs": [
    {
     "name": "stdout",
     "output_type": "stream",
     "text": [
      "이 문서 요약: 2023년 글로벌 경제 전망 보고서\n",
      "\n",
      "- 현재 상태: 글로벌 경제의 현황과 주요 경제 지표를 분석.\n",
      "- 주요 국가 성장률: 미국, 중국, 유럽 등 주요 국가들의 경제 성장률과 전망 제시.\n",
      "- 무역 동향: 글로벌 무역 흐름과 주요 무역 이슈, 공급망 상황 분석.\n",
      "- 미래 예측: 2023년 한 해 동안의 경제 성장, 시장 동향, 위험 요인 등에 대한 전망 제공.\n",
      "- 영향 요인: 경제적, 정치적, 환경적 요인들이 세계 경제에 미치는 영향을 분석하며, 정책 변화와 글로벌 이벤트의 영향을 평가.\n",
      "\n",
      "이 보고서는 글로벌 경제의 현재와 미래를 종합적으로 조망하며, 다양한 변수들이 경제 전망에 어떤 영향을 미치는지 상세히 설명하고 있습니다."
     ]
    }
   ],
   "source": [
    "question1 = {\n",
    "    \"instruction\": \"문서를 요약해 주세요\",\n",
    "    \"input\": \"이 문서는 '2023년 글로벌 경제 전망'에 관한 30페이지에 달하는 상세한 보고서입니다. 보고서는 세계 경제의 현재 상태, 주요 국가들의 경제 성장률, 글로벌 무역 동향, 그리고 다가오는 해에 대한 경제 예측을 다룹니다. 이 보고서는 또한 다양한 경제적, 정치적, 환경적 요인들이 세계 경제에 미칠 영향을 분석하고 있습니다.\",\n",
    "}\n",
    "\n",
    "# 실행 및 결과 출력\n",
    "answer1 = chain.stream(question1)\n",
    "\n",
    "for token in answer1:\n",
    "    print(token.content, end=\"\", flush=True)\n",
    "    save_answer1 += token.content"
   ]
  },
  {
   "cell_type": "code",
   "execution_count": 65,
   "id": "431b95f3",
   "metadata": {},
   "outputs": [
    {
     "data": {
      "text/plain": [
       "'이 문서 요약: 2023년 글로벌 경제 전망 보고서\\n\\n- 현재 상태: 글로벌 경제의 현황과 주요 경제 지표를 분석.\\n- 주요 국가 성장률: 미국, 중국, 유럽 등 주요 국가들의 경제 성장률과 전망 제시.\\n- 무역 동향: 글로벌 무역 흐름과 주요 무역 이슈, 공급망 상황 분석.\\n- 미래 예측: 2023년 한 해 동안의 경제 성장, 시장 동향, 위험 요인 등에 대한 전망 제공.\\n- 영향 요인: 경제적, 정치적, 환경적 요인들이 세계 경제에 미치는 영향을 분석하며, 정책 변화와 글로벌 이벤트의 영향을 평가.\\n\\n이 보고서는 글로벌 경제의 현재와 미래를 종합적으로 조망하며, 다양한 변수들이 경제 전망에 어떤 영향을 미치는지 상세히 설명하고 있습니다.'"
      ]
     },
     "execution_count": 65,
     "metadata": {},
     "output_type": "execute_result"
    }
   ],
   "source": [
    "save_answer1"
   ]
  },
  {
   "cell_type": "code",
   "execution_count": 67,
   "id": "9f4237d6",
   "metadata": {},
   "outputs": [
    {
     "name": "stdout",
     "output_type": "stream",
     "text": [
      "회사는 올해 매출이 증가할 것으로 예상하며, 새로운 전략이 잘 작동하고 있다고 보고 있다."
     ]
    }
   ],
   "source": [
    "question2 = {\n",
    "    \"instruction\": \"문장을 교정해 주세요\",\n",
    "    \"input\": \"회사는 올해 매출이 증가할 것으로 예상한다. 새로운 전략이 잘 작동하고 있다.\",\n",
    "}\n",
    "\n",
    "# 실행 및 결과 출력\n",
    "answer2 = chain.stream(question2)\n",
    "save_answer2 = \"\"\n",
    "for token in answer2:\n",
    "    print(token.content, end=\"\", flush=True)\n",
    "    save_answer2 += token.content"
   ]
  },
  {
   "cell_type": "code",
   "execution_count": 68,
   "id": "94ca014f",
   "metadata": {},
   "outputs": [
    {
     "data": {
      "text/plain": [
       "'회사는 올해 매출이 증가할 것으로 예상하며, 새로운 전략이 잘 작동하고 있다고 보고 있다.'"
      ]
     },
     "execution_count": 68,
     "metadata": {},
     "output_type": "execute_result"
    }
   ],
   "source": [
    "save_answer2"
   ]
  }
 ],
 "metadata": {
  "kernelspec": {
   "display_name": "rag-example",
   "language": "python",
   "name": "python3"
  },
  "language_info": {
   "codemirror_mode": {
    "name": "ipython",
    "version": 3
   },
   "file_extension": ".py",
   "mimetype": "text/x-python",
   "name": "python",
   "nbconvert_exporter": "python",
   "pygments_lexer": "ipython3",
   "version": "3.11.9"
  }
 },
 "nbformat": 4,
 "nbformat_minor": 5
}
