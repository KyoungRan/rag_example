{
 "cells": [
  {
   "cell_type": "markdown",
   "id": "44a8bf86",
   "metadata": {},
   "source": [
    "다음은 LangChain Hub에서 프롬프트를 받아서 실행하는 예제입니다.\n",
    "\n",
    "아래 주소에는 LangChain Hub 프롬프트를 확인할 수 있습니다.\n",
    "\n",
    "받아오는 방법은 프롬프트 repo의 아이디 값을 가져올 수 있고, commit id를 붙여서 특정 버전에 대한 프롬프트를 받아올 수도 있습니다."
   ]
  },
  {
   "cell_type": "markdown",
   "id": "65160cda",
   "metadata": {},
   "source": [
    "## Hub 로부터 Prompt 받아오기"
   ]
  },
  {
   "cell_type": "code",
   "execution_count": 1,
   "id": "47f1b88d",
   "metadata": {},
   "outputs": [],
   "source": [
    "from langchain import hub\n",
    "\n",
    "# 가장 최신 버전의 프롬프트를 가져온다\n",
    "prompt = hub.pull(\"rlm/rag-prompt\")"
   ]
  },
  {
   "cell_type": "code",
   "execution_count": 2,
   "id": "0b9b7558",
   "metadata": {},
   "outputs": [
    {
     "name": "stdout",
     "output_type": "stream",
     "text": [
      "input_variables=['context', 'question'] input_types={} partial_variables={} metadata={'lc_hub_owner': 'rlm', 'lc_hub_repo': 'rag-prompt', 'lc_hub_commit_hash': '50442af133e61576e74536c6556cefe1fac147cad032f4377b60c436e6cdcb6e'} messages=[HumanMessagePromptTemplate(prompt=PromptTemplate(input_variables=['context', 'question'], input_types={}, partial_variables={}, template=\"You are an assistant for question-answering tasks. Use the following pieces of retrieved context to answer the question. If you don't know the answer, just say that you don't know. Use three sentences maximum and keep the answer concise.\\nQuestion: {question} \\nContext: {context} \\nAnswer:\"), additional_kwargs={})]\n"
     ]
    }
   ],
   "source": [
    "# 프롬프트 내용 출력\n",
    "print(prompt)"
   ]
  },
  {
   "cell_type": "code",
   "execution_count": 3,
   "id": "9d1b0ba7",
   "metadata": {},
   "outputs": [],
   "source": [
    "# 특정 버전의 프롬프트를 가져오려면 버전 해시를 지정하세요\n",
    "prompt = hub.pull(\"rlm/rag-prompt:50442af1\")"
   ]
  },
  {
   "cell_type": "markdown",
   "id": "b02df26a",
   "metadata": {},
   "source": [
    "## Prompt Hub에 자신의 프롬프트 등록"
   ]
  },
  {
   "cell_type": "code",
   "execution_count": 4,
   "id": "d8fc396e",
   "metadata": {},
   "outputs": [
    {
     "data": {
      "text/plain": [
       "ChatPromptTemplate(input_variables=['context'], input_types={}, partial_variables={}, messages=[HumanMessagePromptTemplate(prompt=PromptTemplate(input_variables=['context'], input_types={}, partial_variables={}, template='주어진 내용을 바탕으로 다음 문장을 요약하세요. 답변은 반드시 한글로 작성하세요\\n\\nCONTEXT: {context}\\n\\nSUMMARY:'), additional_kwargs={})])"
      ]
     },
     "execution_count": 4,
     "metadata": {},
     "output_type": "execute_result"
    }
   ],
   "source": [
    "from langchain.prompts import ChatPromptTemplate\n",
    "\n",
    "prompt = ChatPromptTemplate.from_template(\n",
    "    \"주어진 내용을 바탕으로 다음 문장을 요약하세요. 답변은 반드시 한글로 작성하세요\\n\\nCONTEXT: {context}\\n\\nSUMMARY:\"\n",
    ")\n",
    "prompt"
   ]
  },
  {
   "cell_type": "code",
   "execution_count": null,
   "id": "f369cb99",
   "metadata": {},
   "outputs": [],
   "source": [
    "from langchain import hub\n",
    "\n",
    "# 프롬프트를 허브에 업로드합니다.\n",
    "hub.push(\"teddynote/simple-summary-korean\", prompt)"
   ]
  },
  {
   "cell_type": "markdown",
   "id": "8feeddb4",
   "metadata": {},
   "source": [
    "다음은 Hub에 성공적으로 업로드 된 후 출력이다.\n",
    "\n",
    "`아이디/프롬프트명/해시`"
   ]
  },
  {
   "cell_type": "markdown",
   "id": "32d95ada",
   "metadata": {},
   "source": [
    "> 출력: 'https://smith.langchain.com/hub/teddynote/simple-summary-korean/0e296563'"
   ]
  },
  {
   "cell_type": "code",
   "execution_count": null,
   "id": "c809bae6",
   "metadata": {},
   "outputs": [],
   "source": [
    "from langchain import hub\n",
    "\n",
    "# 프롬프트를 허브로부터 가져온다\n",
    "pulled_prompt = hub.pull(\"teddynote/simple-summary-korean\")"
   ]
  },
  {
   "cell_type": "code",
   "execution_count": null,
   "id": "20bd99fe",
   "metadata": {},
   "outputs": [],
   "source": [
    "# 프롬프트 내용 출력\n",
    "print(pulled_prompt)"
   ]
  }
 ],
 "metadata": {
  "kernelspec": {
   "display_name": "rag-example",
   "language": "python",
   "name": "python3"
  },
  "language_info": {
   "codemirror_mode": {
    "name": "ipython",
    "version": 3
   },
   "file_extension": ".py",
   "mimetype": "text/x-python",
   "name": "python",
   "nbconvert_exporter": "python",
   "pygments_lexer": "ipython3",
   "version": "3.11.9"
  }
 },
 "nbformat": 4,
 "nbformat_minor": 5
}
